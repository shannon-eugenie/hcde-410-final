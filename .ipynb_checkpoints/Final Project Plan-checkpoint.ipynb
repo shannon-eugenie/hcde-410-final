{
 "cells": [
  {
   "cell_type": "markdown",
   "id": "c3d940af-2ec3-48d9-b412-3d7939b90ed3",
   "metadata": {},
   "source": [
    "# **Final Project Plan**"
   ]
  },
  {
   "cell_type": "markdown",
   "id": "8102f859-c384-4aff-bd67-2207d0b3f73b",
   "metadata": {},
   "source": [
    "### *Preliminary Proposal*\n",
    "#### Motivation and Problem Statement\n",
    "I am planning to analyze the relationship between lifestyle factors (such as smoking and exercise) and physical health indicators (blood pressure, cholesterol, and glucose levels), with a focus on cardiovascular health, primarily the risk of heart attacks. This analysis is essential because it can provide insights into how lifestyle choices significantly impact heart health. The goal is to identify the key lifestyle factors that contribute most significantly to the increased risk of heart attack. This analysis can be useful for adults, as it will shed light on the trends and patterns of how these factors contribute to heart health risks, potentially motivating individuals to improve their habits for better overall health.\n",
    "\n",
    "\n",
    "#### Data Selected for Analysis\n",
    "I will use the dataset [Heart Health Stats Dataset](https://www.kaggle.com/datasets/mahad049/heart-health-stats-dataset) from Kaggle. This is a public dataset under the license *CC BY_NC_SA 4.0 (Attribution-Noncommercial-Sharealike 4.0 International)*. It contains various health-related information, including demographic information (age, gender), blood pressure, cholesterol levels, glucose level, smoker status, exercise, and risk of heart attacks. This dataset can be used to assess risk factors and explore correlations between lifestyle factors and cardiovascular health, identifying which lifestyle factor most impacts the risk of heart attacks. Ethical considerations primarily involve privacy concerns, as the dataset contains the participants' names. However, since a unique ID is provided, I will use the IDs instead of their names to protect personally identifiable information.\n",
    "\n",
    "**Links to datasets:**\n",
    "Heart Health Stats Dataset: https://www.kaggle.com/datasets/mahad049/heart-health-stats-dataset\n",
    "\n",
    "\n",
    "#### Unknowns and Dependencies\n",
    "Several factors could impact my ability to complete this project by the end of the quarter. Since my analysis relies on the dataset to reveal significant correlations between lifestyle factors and the risk of getting a heart attack, a lack of strong correlations could limit my findings and negatively impact my overall analysis. Additionally, I am not confident in my ability to code statistical methods (correlation tests) and machine-learning approaches, so if it proves to be too difficult, I will opt for data visualization instead."
   ]
  },
  {
   "cell_type": "markdown",
   "id": "57ef0dc3-89e0-45c6-a0d6-35617165f0e4",
   "metadata": {},
   "source": [
    "### *Final Plan*\n",
    "#### Overview and Research Questions\n",
    "This project aims to explore the relationship between lifestyle factors and physical health indicators to the risk of developing heart disease, particularly heart attacks. Given that multiple factors can influence cardiovascular health, the main motivator for this analysis is to identify the main contributors leading to a higher risk of heart attack and the strength of each correlation. \n",
    "\n",
    "**Research Questions:**\n",
    "1. What is the age and gender distribution of individuals with a risk of heart attack? Do demographic factors correlate with a higher risk of getting a heart attack?\n",
    "2. What is the correlation/relationship between each lifestyle factor (e.g., smoking, exercise) and physical health indicator (e.g., cholesterol levels, blood pressure, glucose levels, height and weight (BMI)) with the risk of heart attack?\n",
    "3. What is the main contributor to the increased risk of heart attack?\n",
    "\n",
    "\n",
    "#### Background\n",
    "Heart disease is one of the leading causes of death for both men and women in the U.S. and worldwide, accounting for a whopping 20% of total deaths [1]. According to the [Centers for Disease Control and Prevention](https://www.cdc.gov/nchs/hus/topics/heart-disease-prevalence.htm#featured-charts), *\"Heart disease is the leading cause of death for men, women, people aged 45 and over. However, improvements in medical care and reductions in risk factors associated with heart disease, such as high blood pressure, high cholesterol, smoking, and obesity, have led to declines in heart disease morbidity and mortality\"* [2]. The [National Heart, Lung, and Blood Institute](https://www.nhlbi.nih.gov/health/heart-attack/causes) also identifies several factors that raise the risk of a heart attack, including lifestyle habits such as an unhealthy diet, lack of regular physical activity, and smoking, and medical conditions such as high blood cholesterol, high blood pressure, high blood sugar, and overweight/obesity. Age also represents another key risk factor, with men after age 45 and women after the age of 55/after menopause [3]. \n",
    "\n",
    "Many of these risk factors are the focus of this analysis. By exploring the correlation strengths between each factor and the risk of heart attack, the project aims to deepen the understanding of the main contributors to heart disease. Research question 1 aims to confirm the demographic trends for heart attack risk based on age and gender, as indicated by sources [2] and [3]. Whereas research questions 2 and 3 focus on investigating new insights into which specific factors are most strongly correlated with heart attack risk.\n",
    "\n",
    "\n",
    "#### Methodology\n",
    "To address the research questions, I will first clean the dataset by handling/checking for any missing data or duplicates within the [Heart Health Stats Dataset](https://www.kaggle.com/datasets/mahad049/heart-health-stats-dataset). Then, I will exclude the name field within the dataset to erase any personally identifiable information. The height and weight fields will also be merged to calculate the body mass index (BMI) instead, creating a new field for easier analysis. The heart disease risk that I will be focusing on is the risk of heart attack, as it is what is available within the dataset. \n",
    "\n",
    "For *question 1*, data visualization will be used to understand the overall demographic distribution of the dataset. I will create a histogram for age distribution and a bar chart for gender distribution. To assess whether age correlates with heart attack risk, I will use Pearson's correlation coefficient. For the relationship between gender and heart attack risk, I will apply a t-test.\n",
    "\n",
    "For *question 2*, I will perform two statistical tests to analyze the relationship between each variable and the risk of heart attack. I will use Pearson's correlation coefficient to check the relationship between the factors BMI, exercise, cholesterol levels, glucose levels, and blood pressure (all checked individually). For smoking status, I will use the chi-square tests as this field contains yes/no responses. Data visualization will include a bar chart to portray smoking vs. heart attack risk and scatter plots with trend lines for the rest of the factors portrayed individually.\n",
    "\n",
    "For *question 3*, I will create a correlation matrix to assess the strength of relationships between all factors and heart attack risk. To better visualize the data and make it easier to understand, I will generate a heatmap displaying the correlation matrix. This will help identify the main contributor to the risk of heart attack."
   ]
  },
  {
   "cell_type": "markdown",
   "id": "7bd8e167-cab5-4957-9709-f5c6e96fda29",
   "metadata": {},
   "source": [
    "#### References\n",
    "- ChatGPT is used to check grammar\n",
    "\n",
    "[1] “The top leading causes of death in the United States,” Medical News Today, https://www.medicalnewstoday.com/articles/282929#heart-disease (last accessed Nov. 10, 2024). \n",
    "\n",
    "[2] “Heart disease prevalence - health, United States,” Centers for Disease Control and Prevention, https://www.cdc.gov/nchs/hus/topics/heart-disease-prevalence.htm#ref2 (last accessed Nov. 10, 2024). \n",
    "\n",
    "[3] “Causes and risk factors,” National Heart Lung and Blood Institute, https://www.nhlbi.nih.gov/health/heart-attack/causes (last accessed Nov. 10, 2024). "
   ]
  }
 ],
 "metadata": {
  "kernelspec": {
   "display_name": "Python 3 (ipykernel)",
   "language": "python",
   "name": "python3"
  },
  "language_info": {
   "codemirror_mode": {
    "name": "ipython",
    "version": 3
   },
   "file_extension": ".py",
   "mimetype": "text/x-python",
   "name": "python",
   "nbconvert_exporter": "python",
   "pygments_lexer": "ipython3",
   "version": "3.10.13"
  }
 },
 "nbformat": 4,
 "nbformat_minor": 5
}
